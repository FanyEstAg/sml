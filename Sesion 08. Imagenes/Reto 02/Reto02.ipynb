{
 "cells": [
  {
   "cell_type": "markdown",
   "metadata": {},
   "source": [
    "# Reto 02\n",
    "A continuación vamos a aplicar nuevos filtros y a 'quitar el fondo' de nuestra imagen. Éxito"
   ]
  },
  {
   "cell_type": "markdown",
   "metadata": {},
   "source": [
    "## Paso 01\n",
    "A continuación debe aplicar el filtro de escala de grises a la imagen 'Creed' (el hijo de Ivan Drago sentado en su esquina). Una vez aplicado, desplieguelo en pantalla"
   ]
  },
  {
   "cell_type": "code",
   "execution_count": 1,
   "metadata": {},
   "outputs": [],
   "source": [
    "import cv2\n",
    "import numpy as np\n",
    "from matplotlib import pyplot as plt"
   ]
  },
  {
   "cell_type": "markdown",
   "metadata": {},
   "source": [
    "## Paso 02\n",
    "Ahora binarice la misma imagen 'Creed' (use el conocimiento motrado en el ejemplo previo), y muestrela en pantalla. El resultado debe ser algo algo escalofriante."
   ]
  },
  {
   "cell_type": "code",
   "execution_count": null,
   "metadata": {},
   "outputs": [],
   "source": []
  },
  {
   "cell_type": "markdown",
   "metadata": {},
   "source": [
    "## Paso 03\n",
    "Ahora reduzca los espacios de color para la imagen 'Rocky_vs_Drago', e imprima para:\n",
    "- 3 espacios\n",
    "- 6 espacios\n",
    "- 9 espacios\n",
    "- 20 espacios"
   ]
  },
  {
   "cell_type": "code",
   "execution_count": null,
   "metadata": {},
   "outputs": [],
   "source": []
  },
  {
   "cell_type": "markdown",
   "metadata": {},
   "source": [
    "## Paso 04\n",
    "Ahora usaras la imagen 'RockyBN'. Solo debes hacer que los colores se inviertan y unicamente se muestre el trazo de rocky en blanco con fondo negro. Este paso es más díficil, pide ayuda a un TAA o al experto en caso de que tengas dificultades"
   ]
  },
  {
   "cell_type": "code",
   "execution_count": null,
   "metadata": {},
   "outputs": [],
   "source": []
  }
 ],
 "metadata": {
  "kernelspec": {
   "display_name": "Python 3",
   "language": "python",
   "name": "python3"
  },
  "language_info": {
   "codemirror_mode": {
    "name": "ipython",
    "version": 3
   },
   "file_extension": ".py",
   "mimetype": "text/x-python",
   "name": "python",
   "nbconvert_exporter": "python",
   "pygments_lexer": "ipython3",
   "version": "3.7.4"
  }
 },
 "nbformat": 4,
 "nbformat_minor": 4
}
