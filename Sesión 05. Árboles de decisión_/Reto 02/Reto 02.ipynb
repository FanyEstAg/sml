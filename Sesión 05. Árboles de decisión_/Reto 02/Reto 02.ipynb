{
 "cells": [
  {
   "cell_type": "markdown",
   "metadata": {},
   "source": [
    "# Reto 02\n",
    "## Por Jaffet León Chávez\n",
    "\n",
    "A continuación vas a retomar lo desarrollado en el reto 01 pero a continuación, el challenge consta de... ¡generar la visualización del árbol de decisión para el caso del ladrón de Louvre! Lee y sigue cuidadosamente las instrucciones "
   ]
  },
  {
   "cell_type": "markdown",
   "metadata": {},
   "source": [
    "## Paso 0\n",
    "Importa las librerías necesarias"
   ]
  },
  {
   "cell_type": "code",
   "execution_count": 1,
   "metadata": {},
   "outputs": [],
   "source": [
    "import numpy as np\n",
    "from matplotlib import pyplot as plt\n",
    "from sklearn import tree as treeClassifier"
   ]
  },
  {
   "cell_type": "markdown",
   "metadata": {},
   "source": [
    "## Paso 1\n",
    "\n",
    "Declara dos variables:\n",
    "- 'sospechosos', la cual definiste en el paso 01 del reto 01\n",
    "- 'binaria', la cual definiste en el paso 02 del reto 01"
   ]
  },
  {
   "cell_type": "code",
   "execution_count": null,
   "metadata": {},
   "outputs": [],
   "source": []
  },
  {
   "cell_type": "markdown",
   "metadata": {},
   "source": [
    "## Paso 2\n",
    "Usa treeClassifier.DecisionTreeClassifier() dentro de una variable que tú definas, y despues haz un fit con las variables que acabas de definir llamadas 'binaria' y 'sospechosos'\n"
   ]
  },
  {
   "cell_type": "code",
   "execution_count": null,
   "metadata": {},
   "outputs": [],
   "source": []
  },
  {
   "cell_type": "markdown",
   "metadata": {},
   "source": [
    "## Paso 3\n",
    "Usa matplotlib, en específico treeClassifier.plot_tree y usa como argumento la variable que definiste en el paso anterior (en la cual usaste treeClassifier.DecisionTreeClassifier() )"
   ]
  },
  {
   "cell_type": "code",
   "execution_count": null,
   "metadata": {},
   "outputs": [],
   "source": []
  },
  {
   "cell_type": "markdown",
   "metadata": {},
   "source": [
    "## Paso 4\n",
    "Discutan en equipo la forma de interpretar este árbol de decisión dada la ofrecida por el profesor en el ejemplo 02:\n",
    "- ¿Que pasa cuando samples es igual a 1 y se colorean esas hojas?\n",
    "- ¿Cúal es el criterio de decisión?\n",
    "- ¿Cómo puedo ir subiendo o bajando en el árbol?"
   ]
  }
 ],
 "metadata": {
  "kernelspec": {
   "display_name": "Python 3",
   "language": "python",
   "name": "python3"
  },
  "language_info": {
   "codemirror_mode": {
    "name": "ipython",
    "version": 3
   },
   "file_extension": ".py",
   "mimetype": "text/x-python",
   "name": "python",
   "nbconvert_exporter": "python",
   "pygments_lexer": "ipython3",
   "version": "3.7.4"
  }
 },
 "nbformat": 4,
 "nbformat_minor": 4
}
