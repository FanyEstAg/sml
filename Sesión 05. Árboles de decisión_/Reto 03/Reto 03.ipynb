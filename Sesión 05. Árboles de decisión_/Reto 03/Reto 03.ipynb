{
 "cells": [
  {
   "cell_type": "markdown",
   "metadata": {},
   "source": [
    "# Reto 3\n",
    "## Jaffet León Chávez\n",
    "\n",
    "A continuación vamos a generar desde 0 árboles de decisión y random forests para generar predicciones. Usaremos el dataset de  Breast Cancer Wisconsin (Diagnostic) Data Set para el presente reto. Vamos a comenzar"
   ]
  },
  {
   "cell_type": "markdown",
   "metadata": {},
   "source": [
    "## Paso 0. Carguemos las librerías necesarias"
   ]
  },
  {
   "cell_type": "code",
   "execution_count": 89,
   "metadata": {},
   "outputs": [],
   "source": [
    "import numpy as np\n",
    "import pandas as pd\n",
    "\n",
    "import matplotlib.pyplot as plt\n",
    "%matplotlib inline \n",
    "\n",
    "from sklearn.model_selection import train_test_split\n",
    "from sklearn.ensemble import RandomForestClassifier\n",
    "from sklearn.tree import DecisionTreeClassifier, export_graphviz\n",
    "from sklearn import metrics\n",
    "\n",
    "from sklearn.model_selection import cross_val_score\n"
   ]
  },
  {
   "cell_type": "markdown",
   "metadata": {},
   "source": [
    "## Paso 1. Hagamos un EDA para entender de que van nuestros datos"
   ]
  },
  {
   "cell_type": "code",
   "execution_count": null,
   "metadata": {},
   "outputs": [],
   "source": []
  },
  {
   "cell_type": "code",
   "execution_count": null,
   "metadata": {},
   "outputs": [],
   "source": []
  },
  {
   "cell_type": "markdown",
   "metadata": {},
   "source": [
    "## Paso 02\n",
    "\n",
    "Use train_test_split de sci-kit learn para crear un spliting con una propoción de 70-30 % para training y testing\n",
    "(Nota: no use en este caso cuatro, sino solo dos variables)"
   ]
  },
  {
   "cell_type": "code",
   "execution_count": null,
   "metadata": {},
   "outputs": [],
   "source": []
  },
  {
   "cell_type": "markdown",
   "metadata": {},
   "source": [
    "## Paso 03\n",
    "\n",
    "Corra la siguiente función de clasificación y validación. La usaremos a continuación"
   ]
  },
  {
   "cell_type": "code",
   "execution_count": null,
   "metadata": {},
   "outputs": [],
   "source": []
  },
  {
   "cell_type": "markdown",
   "metadata": {},
   "source": [
    "## Paso 04:\n",
    "\n",
    "Empieza a generar un árbol de decisión (no lo gráfiques por el momento), y usa la función recientemente definida como 'classification_model' para evaluar el arbol generado. Tambien genera una variable con un solo elemento llamada 'predictor_var' en forma de lista con los siguientes elementos, y haz un loop o repite hasta 2 veces la función que generaste parae revisar la precisión con cada uno de ellos, para dos diferentes elementos que puedan estar contenidos en 'predictor_var'\n",
    "\n",
    "- 'radius_mean'\n",
    "- 'perimeter_mean'\n",
    "- 'area_mean'\n",
    "- 'compactness_mean'\n",
    "- 'concave points_mean'\n",
    "\n",
    "Define una variable llamada outcome_var que este igualada a 'diagnosis'\n",
    "\n",
    "También, define una variable llamada 'model' la cual almacene un DecisionTreeClassifier(), y despues embonalo en tu 'classification_model'"
   ]
  },
  {
   "cell_type": "code",
   "execution_count": null,
   "metadata": {},
   "outputs": [],
   "source": []
  },
  {
   "cell_type": "markdown",
   "metadata": {},
   "source": [
    "## Paso 05:\n",
    "Genere un random forest con todos los valores posibles dentro de la variable lista 'predictor_var', y pruebe la precisión con la función classification_model generada en pasos anteriores. No es necesario graficar el árbol. Solo defina su random forest y pruebe la precisión."
   ]
  },
  {
   "cell_type": "code",
   "execution_count": null,
   "metadata": {},
   "outputs": [],
   "source": []
  }
 ],
 "metadata": {
  "kernelspec": {
   "display_name": "Python 3",
   "language": "python",
   "name": "python3"
  },
  "language_info": {
   "codemirror_mode": {
    "name": "ipython",
    "version": 3
   },
   "file_extension": ".py",
   "mimetype": "text/x-python",
   "name": "python",
   "nbconvert_exporter": "python",
   "pygments_lexer": "ipython3",
   "version": "3.7.4"
  }
 },
 "nbformat": 4,
 "nbformat_minor": 4
}
