{
 "cells": [
  {
   "cell_type": "markdown",
   "metadata": {},
   "source": [
    "# Reto 01\n",
    "# Por Jaffet León Chávez\n",
    "\n",
    "A continuación haremos un árbol de decisión de la misma forma que lo hicimos con el juego de Adivina Quién, pero en este caso juagremos a encontrar al ladrón. Lee el caso:\n",
    "\n",
    "Eres un detective y debes encontrar al culpable de hcer robado del museo del Louvre una importante obra artística valuada en varios millones de euros. El ladrón, que entró en la noche a las instalaciones del múseo, fue visto salir con el motín por un testigo que estaba pasando la calle al momento de la huida del delincuente. El testigo le dijo a la policía que el ladrón presentaba las siguientes señas particulares:\n",
    "\n",
    "- Tiene un tatuaje en la muñeca\n",
    "- No tenía perforaciones visibles\n",
    "- Su cabello era negro\n",
    "- Usaba botas\n",
    "- Medía más de 1.80, aproximadamente\n",
    "- Era de tez blanca\n",
    "\n",
    "En la base de datos de la estación de Policia se encontraron los expedientes de 7 sospechosos. Tu deber es hacer las preguntas correctas para hayar al culpable entre los probables malhechores.\n",
    "\n",
    "Los sospechosos, y sus respectivas características son:\n",
    "- Manuel: No tatuaje | Sin perforaciones | No cabello negro | No botas | Si mide más de 1.80 | Si tez blanca\n",
    "- Pedro: Si tatuaje | Sin perforaciones | Si cabello negro | Si botas | Si mide más de 1.80 | Si tez blanca\n",
    "- Akira: Si tatuaje | Sin perforaciones | Si cabello negro | No botas | Si mide más de 1.80 | Si tez blanca\n",
    "- Mauricio: Si tatuaje | Sin perforaciones | No cabello negro | No botas | Si mide más de 1.80 | Si tez blanca\n",
    "- Heriberto: Si tatuaje | Con perforaciones | No cabello negro | No botas | No mide más de 1.80 | No tez blanca\n",
    "- Yony: Si tatuaje | Sin perforaciones | No cabello negro | No botas | Si mide más de 1.80 | No tez blanca\n",
    "- Juan: Si tatuaje | Sin perforaciones | No cabello negro | No botas | No mide más de 1.80 | No tez blanca"
   ]
  },
  {
   "cell_type": "markdown",
   "metadata": {},
   "source": [
    "### Paso 0: Cargue Numpy"
   ]
  },
  {
   "cell_type": "code",
   "execution_count": 5,
   "metadata": {},
   "outputs": [],
   "source": [
    "import numpy as np"
   ]
  },
  {
   "cell_type": "markdown",
   "metadata": {},
   "source": [
    "### Paso 01\n",
    "A continuación debe definir una variable 'sospechosos' para el output con forma de lista, con los nombres de los sospechosos."
   ]
  },
  {
   "cell_type": "code",
   "execution_count": null,
   "metadata": {},
   "outputs": [],
   "source": []
  },
  {
   "cell_type": "markdown",
   "metadata": {},
   "source": [
    "### Paso 02\n",
    "A continuación debes generar un array llamado 'binaria' de numpy con una binarización (1 para si cuenta con la característica, 0 para no cuenta con ella), donde cada fila corresponde a un sospechoso"
   ]
  },
  {
   "cell_type": "code",
   "execution_count": null,
   "metadata": {},
   "outputs": [],
   "source": []
  },
  {
   "cell_type": "markdown",
   "metadata": {},
   "source": [
    "### Paso 03:\n",
    "Verifique que todos los acusados son sospechosos mediante una variable que se llame 'SospechososTodos' igual a operación básica que multiplique un boolean con cada observación de y (nombres)"
   ]
  },
  {
   "cell_type": "code",
   "execution_count": null,
   "metadata": {},
   "outputs": [],
   "source": []
  },
  {
   "cell_type": "markdown",
   "metadata": {},
   "source": [
    "### Paso 04:\n",
    "Con un loop básico, despliegue en pantalla que sospechosos hay"
   ]
  },
  {
   "cell_type": "code",
   "execution_count": null,
   "metadata": {},
   "outputs": [],
   "source": []
  },
  {
   "cell_type": "markdown",
   "metadata": {},
   "source": [
    "### Paso 05:\n",
    "Empiece el interrogatorio con la primera pregunta: Tienen tatuajes en la muñeca? Hagalo definiendo una variable llamada 'pregunta1' que contenga np.where. Como pista: use la binarización deifnida en el paso 02, e inicie con una variable predefinida como TieneTatuajesEnLaMuñeca = 1"
   ]
  },
  {
   "cell_type": "code",
   "execution_count": null,
   "metadata": {},
   "outputs": [],
   "source": []
  },
  {
   "cell_type": "markdown",
   "metadata": {},
   "source": [
    "### Paso 06:\n",
    "Repita el paso 04 para ver que malhechores quedan:"
   ]
  },
  {
   "cell_type": "code",
   "execution_count": null,
   "metadata": {},
   "outputs": [],
   "source": []
  },
  {
   "cell_type": "markdown",
   "metadata": {},
   "source": [
    "### Paso 07:\n",
    "Continue preguntando a los inculpados: Tienen perforaciones visibles? Hagalo definiendo una variable llamada 'pregunta2' que contenga np.where. Como pista: use la binarización deifnida en el paso 02, e inicie con una variable predefinida como TienePerfos = 1... OJO, ESTA PARTE TIENE DETALLE PERO SOLO CONSTA DE INVERTIR EL ORDEN DE LOS BOOLEANS DE np.where"
   ]
  },
  {
   "cell_type": "code",
   "execution_count": null,
   "metadata": {},
   "outputs": [],
   "source": []
  },
  {
   "cell_type": "markdown",
   "metadata": {},
   "source": [
    "### Paso 08:\n",
    "Repita el paso 04 y vea que malhechores quedan"
   ]
  },
  {
   "cell_type": "code",
   "execution_count": null,
   "metadata": {},
   "outputs": [],
   "source": []
  },
  {
   "cell_type": "markdown",
   "metadata": {},
   "source": [
    "### Paso 09:\n",
    "Haga la siguiente pregunta: ¿Su cabello era negro? Hagalo definiendo una variable llamada 'pregunta3' que contenga np.where. Como pista: use la binarización deifnida en el paso 02, e inicie con una variable predefinida como TieneCabelloNegro = 1"
   ]
  },
  {
   "cell_type": "code",
   "execution_count": null,
   "metadata": {},
   "outputs": [],
   "source": []
  },
  {
   "cell_type": "markdown",
   "metadata": {},
   "source": [
    "### Paso 09:\n",
    "Repita el paso 04 y vea que malhechores quedan"
   ]
  },
  {
   "cell_type": "code",
   "execution_count": null,
   "metadata": {},
   "outputs": [],
   "source": []
  },
  {
   "cell_type": "markdown",
   "metadata": {},
   "source": [
    "### Paso 10:\n",
    "Solo debe restarle 02 sospechosos. Haga la última pregunta y encuentre al último culpable: ¿Usaba boras?  Hagalo definiendo una variable llamada 'pregunta4' que contenga np.where. Como pista: use la binarización deifnida en el paso 02, e inicie con una variable predefinida como UsaBotas = 1"
   ]
  },
  {
   "cell_type": "code",
   "execution_count": null,
   "metadata": {},
   "outputs": [],
   "source": []
  },
  {
   "cell_type": "markdown",
   "metadata": {},
   "source": [
    "### Paso 11:\n",
    "Repita el paso 04 y vea quien es el verdadero culpable!!!!"
   ]
  },
  {
   "cell_type": "code",
   "execution_count": null,
   "metadata": {},
   "outputs": [],
   "source": []
  }
 ],
 "metadata": {
  "kernelspec": {
   "display_name": "Python 3",
   "language": "python",
   "name": "python3"
  },
  "language_info": {
   "codemirror_mode": {
    "name": "ipython",
    "version": 3
   },
   "file_extension": ".py",
   "mimetype": "text/x-python",
   "name": "python",
   "nbconvert_exporter": "python",
   "pygments_lexer": "ipython3",
   "version": "3.7.4"
  }
 },
 "nbformat": 4,
 "nbformat_minor": 4
}
