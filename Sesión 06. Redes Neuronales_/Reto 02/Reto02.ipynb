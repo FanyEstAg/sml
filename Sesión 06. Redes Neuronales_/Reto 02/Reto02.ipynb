{
 "cells": [
  {
   "cell_type": "markdown",
   "metadata": {},
   "source": [
    "# Ejemplo 02\n",
    "## Jaffet León Chávez\n",
    "\n",
    "El reto consta de que generes una red neuronal con solo 3 variables:\n",
    "\n",
    "### 1- Número de embarazos\n",
    "#### 2- Concentración de glucosa en la plasma sanguínea a 2 horas en una prueba oral\n",
    "#### 3- Presión sanguínea diastólica (mm Hg)\n",
    "\n",
    "Su reto es:\n",
    "- Generar una red neuronal con 2 layers de neuronas que generen una dendrita de salida binaria para clasificar los nuevos casos observados como 1 (diabético) o 0 (no diabético).\n",
    "- Probar su modelo con al menos 5 observaciones del data set que usted ya tiene\n",
    "\n",
    "Recuerde que la última variable es la dummy"
   ]
  },
  {
   "cell_type": "code",
   "execution_count": 1,
   "metadata": {},
   "outputs": [
    {
     "name": "stderr",
     "output_type": "stream",
     "text": [
      "Using TensorFlow backend.\n"
     ]
    }
   ],
   "source": [
    "# Librerías a usar\n",
    "\n",
    "from numpy import loadtxt\n",
    "from keras.models import Sequential\n",
    "from keras.layers import Dense\n",
    "import pandas as pd\n",
    "import matplotlib as mp"
   ]
  },
  {
   "cell_type": "markdown",
   "metadata": {},
   "source": [
    "# Paso 1\n",
    "Carga los datos. Use pandas para ello"
   ]
  },
  {
   "cell_type": "code",
   "execution_count": 3,
   "metadata": {},
   "outputs": [],
   "source": [
    "\n"
   ]
  },
  {
   "cell_type": "markdown",
   "metadata": {},
   "source": [
    "# Paso 2\n",
    "Genere un breve EDA que incluya:\n",
    "- 3 gráficas de las 3 distintas variables para el reto\n",
    "- Una exploración de la distirbución de las variables, o que ayude a comprender las dimensiones de las 3 variables que está usted por usar para generar su red neuronal"
   ]
  },
  {
   "cell_type": "code",
   "execution_count": 1,
   "metadata": {
    "scrolled": true
   },
   "outputs": [],
   "source": [
    "#9- Variable dummy. haga print de ella\n"
   ]
  },
  {
   "cell_type": "code",
   "execution_count": null,
   "metadata": {},
   "outputs": [],
   "source": []
  },
  {
   "cell_type": "markdown",
   "metadata": {},
   "source": [
    "# (X) serán las variables explicativas y (y) la dicótomica, pero solo usaremos:\n",
    "###  1- Número de embarazos\n",
    "#### 2- Concentración de glucosa en la plasma sanguínea a 2 horas en una prueba oral\n",
    "#### 3- Presión sanguínea diastólica (mm Hg)\n",
    "\n",
    "# Defina aquí debajo sus variables de entrenamiento\n"
   ]
  },
  {
   "cell_type": "code",
   "execution_count": null,
   "metadata": {},
   "outputs": [],
   "source": []
  },
  {
   "cell_type": "markdown",
   "metadata": {},
   "source": [
    "# Paso 3\n",
    "Defina al red neuronal con la ayuda de Keras. Recuerde, intento y error."
   ]
  },
  {
   "cell_type": "code",
   "execution_count": 10,
   "metadata": {},
   "outputs": [],
   "source": [
    "# Vamos a definir el modelo de Keras\n",
    "\n"
   ]
  },
  {
   "cell_type": "code",
   "execution_count": 11,
   "metadata": {},
   "outputs": [],
   "source": []
  },
  {
   "cell_type": "code",
   "execution_count": null,
   "metadata": {
    "scrolled": true
   },
   "outputs": [],
   "source": []
  },
  {
   "cell_type": "markdown",
   "metadata": {},
   "source": [
    "# Paso 5\n",
    "Evalue la la precisión del modelo"
   ]
  },
  {
   "cell_type": "code",
   "execution_count": null,
   "metadata": {},
   "outputs": [],
   "source": []
  },
  {
   "cell_type": "markdown",
   "metadata": {},
   "source": [
    "# Paso 6\n",
    "Junte todos los pedazos de código y corra el script."
   ]
  },
  {
   "cell_type": "markdown",
   "metadata": {},
   "source": [
    "# Vamos a Proyectar"
   ]
  },
  {
   "cell_type": "code",
   "execution_count": null,
   "metadata": {},
   "outputs": [],
   "source": []
  }
 ],
 "metadata": {
  "kernelspec": {
   "display_name": "Python 3",
   "language": "python",
   "name": "python3"
  },
  "language_info": {
   "codemirror_mode": {
    "name": "ipython",
    "version": 3
   },
   "file_extension": ".py",
   "mimetype": "text/x-python",
   "name": "python",
   "nbconvert_exporter": "python",
   "pygments_lexer": "ipython3",
   "version": "3.7.4"
  }
 },
 "nbformat": 4,
 "nbformat_minor": 4
}
