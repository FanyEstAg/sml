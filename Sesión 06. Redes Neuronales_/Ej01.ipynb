{
  "nbformat": 4,
  "nbformat_minor": 0,
  "metadata": {
    "colab": {
      "name": "Ej01.ipynb",
      "provenance": [],
      "collapsed_sections": []
    },
    "kernelspec": {
      "name": "python3",
      "display_name": "Python 3"
    },
    "language_info": {
      "name": "python"
    }
  },
  "cells": [
    {
      "cell_type": "code",
      "metadata": {
        "id": "nUkaj6MEuF2c"
      },
      "source": [
        "import numpy as np\n",
        "from sklearn.linear_model import SGDClassifier"
      ],
      "execution_count": 2,
      "outputs": []
    },
    {
      "cell_type": "code",
      "metadata": {
        "id": "OdMna-Rgf_qe"
      },
      "source": [
        "### Implementando un AND\n",
        "Recordemos que la tabla de AND es:\n",
        "\n",
        "0 AND 0 = 0\n",
        "\n",
        "0 AND 1 = 0\n",
        "\n",
        "1 AND 0 = 0\n",
        "\n",
        "1 AND 1 = 1\n",
        "\n",
        "\n",
        "### Implementando un OR\n",
        "Recordemos que la tabla de OR es:\n",
        "\n",
        "0 OR 0 = 0\n",
        "\n",
        "0 OR 1 = 1\n",
        "\n",
        "1 OR 0 = 1\n",
        "\n",
        "1 OR 1 = 1\n",
        "\n",
        "### Implementando un NOT\n",
        "Recordemos que la tabla de NOT es:\n",
        "\n",
        "NOT 0 = 1\n",
        "NOT 1 = 0\n",
        "\n",
        "### Implementando un XOR (y fallando en el proceso)\n",
        "Recordemos que la tabla de XOR es:\n",
        "\n",
        "0 XOR 0 = 0\n",
        "\n",
        "0 XOR 1 = 1\n",
        "\n",
        "1 XOR 0 = 1\n",
        "\n",
        "1 XOR 1 = 0"
      ],
      "execution_count": null,
      "outputs": []
    },
    {
      "cell_type": "code",
      "metadata": {
        "colab": {
          "base_uri": "https://localhost:8080/"
        },
        "id": "rIja26ylgDlp",
        "outputId": "c6ffc35f-d66e-4cfa-f0e0-e45e0c2b3868"
      },
      "source": [
        "# AND\n",
        "X = np.array([[0,0],[0,1],[1,0],[1,1]])\n",
        "Y = np.array([0,0,0,1])\n",
        "\n",
        "model = SGDClassifier(max_iter= 1000)\n",
        "model.fit(X,Y)\n",
        "RESULTADO = model.predict(X)\n",
        "print(RESULTADO)"
      ],
      "execution_count": 3,
      "outputs": [
        {
          "output_type": "stream",
          "text": [
            "[0 0 0 1]\n"
          ],
          "name": "stdout"
        }
      ]
    },
    {
      "cell_type": "code",
      "metadata": {
        "colab": {
          "base_uri": "https://localhost:8080/"
        },
        "id": "Mib5wE-IgJD6",
        "outputId": "0f15fd97-420f-4b78-d1f3-b2fc01a2c4d4"
      },
      "source": [
        "# OR\n",
        "X = np.array([[0,0],[0,1],[1,0],[1,1]])\n",
        "Y = np.array([0,1,1,1])\n",
        "\n",
        "model = SGDClassifier(max_iter= 1000)\n",
        "model.fit(X,Y)\n",
        "RESULTADO = model.predict(X)\n",
        "print(RESULTADO)"
      ],
      "execution_count": 5,
      "outputs": [
        {
          "output_type": "stream",
          "text": [
            "[0 1 1 1]\n"
          ],
          "name": "stdout"
        }
      ]
    },
    {
      "cell_type": "code",
      "metadata": {
        "colab": {
          "base_uri": "https://localhost:8080/"
        },
        "id": "3CLx_ghSgNX1",
        "outputId": "edc19de5-28f9-4437-cc51-a2987f4c5b50"
      },
      "source": [
        "# not\n",
        "X = np.array([[0],[1]])\n",
        "Y = np.array([1,0])\n",
        "\n",
        "model = SGDClassifier(max_iter= 1000)\n",
        "model.fit(X,Y)\n",
        "RESULTADO = model.predict(X)\n",
        "print(RESULTADO)"
      ],
      "execution_count": 6,
      "outputs": [
        {
          "output_type": "stream",
          "text": [
            "[1 0]\n"
          ],
          "name": "stdout"
        }
      ]
    },
    {
      "cell_type": "code",
      "metadata": {
        "colab": {
          "base_uri": "https://localhost:8080/"
        },
        "id": "0YPYK7DKgRa3",
        "outputId": "4c50c4f4-3b20-4af5-dca0-fd76272646fe"
      },
      "source": [
        "# XOR\n",
        "X = np.array([[0,0],[0,1],[1,0],[1,1]])\n",
        "Y = np.array([0,1,1,0])\n",
        "\n",
        "model = SGDClassifier(max_iter= 1000)\n",
        "model.fit(X,Y)\n",
        "RESULTADO = model.predict(X)\n",
        "print(RESULTADO)"
      ],
      "execution_count": 7,
      "outputs": [
        {
          "output_type": "stream",
          "text": [
            "[0 1 0 1]\n"
          ],
          "name": "stdout"
        }
      ]
    }
  ]
}