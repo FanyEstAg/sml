{
 "cells": [
  {
   "cell_type": "markdown",
   "metadata": {},
   "source": [
    "# Reto 0\n",
    "A continuación deberás seguir las instrucciones a detalle para generar una breve clusterización de los make_bloobs (número aleatorios generados). Éxito"
   ]
  },
  {
   "cell_type": "markdown",
   "metadata": {},
   "source": [
    "# Paso 1. \n",
    "Genera 100,000 bloobs, con 8 centros y 2 características"
   ]
  },
  {
   "cell_type": "code",
   "execution_count": null,
   "metadata": {},
   "outputs": [],
   "source": []
  },
  {
   "cell_type": "markdown",
   "metadata": {},
   "source": [
    "# Paso 2.\n",
    "Ahora, usa lo aprendido en la sesión pasada (y visto en ejemplo anterior) para generar una partición de entrenamiento de 80% y con tetsing de 20%. Usalo nombrando 4 nuevas variables que se van a llamar x_train, x_test, y_train, y_test"
   ]
  },
  {
   "cell_type": "code",
   "execution_count": null,
   "metadata": {},
   "outputs": [],
   "source": []
  },
  {
   "cell_type": "markdown",
   "metadata": {},
   "source": [
    "# Paso 3.\n",
    "Acto seguido, gráfica tus bloobs y ve como se agrupan. Determina con base en ello el número de clusters necesarios, y definelos.\n",
    "- También genera un print de los centroides\n",
    "- Paso importante: agrega a la gráfica una x con los centroides generados"
   ]
  },
  {
   "cell_type": "code",
   "execution_count": null,
   "metadata": {},
   "outputs": [],
   "source": []
  }
 ],
 "metadata": {
  "kernelspec": {
   "display_name": "Python 3",
   "language": "python",
   "name": "python3"
  },
  "language_info": {
   "codemirror_mode": {
    "name": "ipython",
    "version": 3
   },
   "file_extension": ".py",
   "mimetype": "text/x-python",
   "name": "python",
   "nbconvert_exporter": "python",
   "pygments_lexer": "ipython3",
   "version": "3.7.4"
  }
 },
 "nbformat": 4,
 "nbformat_minor": 4
}
